{
  "nbformat": 4,
  "nbformat_minor": 0,
  "metadata": {
    "colab": {
      "name": "Untitled0.ipynb",
      "provenance": []
    },
    "kernelspec": {
      "name": "python3",
      "display_name": "Python 3"
    },
    "language_info": {
      "name": "python"
    },
    "accelerator": "GPU"
  },
  "cells": [
    {
      "cell_type": "markdown",
      "metadata": {
        "id": "tZUEnSnqWpB-"
      },
      "source": [
        "Before starting, click Runtime --> Change runtime type and select Hardware Accelerator as GPU"
      ]
    },
    {
      "cell_type": "code",
      "metadata": {
        "colab": {
          "base_uri": "https://localhost:8080/"
        },
        "id": "3kqRV0VLW9RS",
        "outputId": "ae5b5ec2-e74f-4807-ba9d-d1fe45dbba22"
      },
      "source": [
        "## GPU Details:\n",
        "\n",
        "!nvidia-smi"
      ],
      "execution_count": 2,
      "outputs": [
        {
          "output_type": "stream",
          "text": [
            "Tue Apr  6 22:44:49 2021       \n",
            "+-----------------------------------------------------------------------------+\n",
            "| NVIDIA-SMI 460.67       Driver Version: 460.32.03    CUDA Version: 11.2     |\n",
            "|-------------------------------+----------------------+----------------------+\n",
            "| GPU  Name        Persistence-M| Bus-Id        Disp.A | Volatile Uncorr. ECC |\n",
            "| Fan  Temp  Perf  Pwr:Usage/Cap|         Memory-Usage | GPU-Util  Compute M. |\n",
            "|                               |                      |               MIG M. |\n",
            "|===============================+======================+======================|\n",
            "|   0  Tesla T4            Off  | 00000000:00:04.0 Off |                    0 |\n",
            "| N/A   47C    P8     9W /  70W |      0MiB / 15109MiB |      0%      Default |\n",
            "|                               |                      |                  N/A |\n",
            "+-------------------------------+----------------------+----------------------+\n",
            "                                                                               \n",
            "+-----------------------------------------------------------------------------+\n",
            "| Processes:                                                                  |\n",
            "|  GPU   GI   CI        PID   Type   Process name                  GPU Memory |\n",
            "|        ID   ID                                                   Usage      |\n",
            "|=============================================================================|\n",
            "|  No running processes found                                                 |\n",
            "+-----------------------------------------------------------------------------+\n"
          ],
          "name": "stdout"
        }
      ]
    },
    {
      "cell_type": "markdown",
      "metadata": {
        "id": "4LgXPwBYYPAT"
      },
      "source": [
        "Next step is to install paddlepaddle-gpu and get a copy of the ERNIE code from Git repo"
      ]
    },
    {
      "cell_type": "code",
      "metadata": {
        "colab": {
          "base_uri": "https://localhost:8080/"
        },
        "id": "M0LOwWGHW9T5",
        "outputId": "d34fa6d6-2b06-4315-8b75-17380dfc1f69"
      },
      "source": [
        "!pip install paddlepaddle-gpu"
      ],
      "execution_count": 3,
      "outputs": [
        {
          "output_type": "stream",
          "text": [
            "Collecting paddlepaddle-gpu\n",
            "\u001b[?25l  Downloading https://files.pythonhosted.org/packages/89/04/b59d5df53baff8b8e1697e7b473dc74a9e3adebc291660ebbac5a0b84a6a/paddlepaddle_gpu-2.0.1-cp37-cp37m-manylinux1_x86_64.whl (695.8MB)\n",
            "\u001b[K     |████████████████████████████████| 695.8MB 27kB/s \n",
            "\u001b[?25hRequirement already satisfied: Pillow in /usr/local/lib/python3.7/dist-packages (from paddlepaddle-gpu) (7.1.2)\n",
            "Requirement already satisfied: gast>=0.3.3; platform_system != \"Windows\" in /usr/local/lib/python3.7/dist-packages (from paddlepaddle-gpu) (0.3.3)\n",
            "Requirement already satisfied: decorator in /usr/local/lib/python3.7/dist-packages (from paddlepaddle-gpu) (4.4.2)\n",
            "Requirement already satisfied: astor in /usr/local/lib/python3.7/dist-packages (from paddlepaddle-gpu) (0.8.1)\n",
            "Requirement already satisfied: six in /usr/local/lib/python3.7/dist-packages (from paddlepaddle-gpu) (1.15.0)\n",
            "Requirement already satisfied: numpy>=1.13; python_version >= \"3.5\" and platform_system != \"Windows\" in /usr/local/lib/python3.7/dist-packages (from paddlepaddle-gpu) (1.19.5)\n",
            "Requirement already satisfied: requests>=2.20.0 in /usr/local/lib/python3.7/dist-packages (from paddlepaddle-gpu) (2.23.0)\n",
            "Requirement already satisfied: protobuf>=3.1.0 in /usr/local/lib/python3.7/dist-packages (from paddlepaddle-gpu) (3.12.4)\n",
            "Requirement already satisfied: certifi>=2017.4.17 in /usr/local/lib/python3.7/dist-packages (from requests>=2.20.0->paddlepaddle-gpu) (2020.12.5)\n",
            "Requirement already satisfied: urllib3!=1.25.0,!=1.25.1,<1.26,>=1.21.1 in /usr/local/lib/python3.7/dist-packages (from requests>=2.20.0->paddlepaddle-gpu) (1.24.3)\n",
            "Requirement already satisfied: chardet<4,>=3.0.2 in /usr/local/lib/python3.7/dist-packages (from requests>=2.20.0->paddlepaddle-gpu) (3.0.4)\n",
            "Requirement already satisfied: idna<3,>=2.5 in /usr/local/lib/python3.7/dist-packages (from requests>=2.20.0->paddlepaddle-gpu) (2.10)\n",
            "Requirement already satisfied: setuptools in /usr/local/lib/python3.7/dist-packages (from protobuf>=3.1.0->paddlepaddle-gpu) (54.2.0)\n",
            "Installing collected packages: paddlepaddle-gpu\n",
            "Successfully installed paddlepaddle-gpu-2.0.1\n"
          ],
          "name": "stdout"
        }
      ]
    },
    {
      "cell_type": "code",
      "metadata": {
        "colab": {
          "base_uri": "https://localhost:8080/"
        },
        "id": "iZThUgN9W9WD",
        "outputId": "f4ac765b-0911-44fd-c879-172f4d2a30c0"
      },
      "source": [
        "!git clone https://github.com/PaddlePaddle/ERNIE.git --depth 1"
      ],
      "execution_count": 5,
      "outputs": [
        {
          "output_type": "stream",
          "text": [
            "Cloning into 'ERNIE'...\n",
            "remote: Enumerating objects: 165, done.\u001b[K\n",
            "remote: Counting objects: 100% (165/165), done.\u001b[K\n",
            "remote: Compressing objects: 100% (144/144), done.\u001b[K\n",
            "remote: Total 165 (delta 21), reused 104 (delta 13), pack-reused 0\u001b[K\n",
            "Receiving objects: 100% (165/165), 2.25 MiB | 10.25 MiB/s, done.\n",
            "Resolving deltas: 100% (21/21), done.\n"
          ],
          "name": "stdout"
        }
      ]
    },
    {
      "cell_type": "code",
      "metadata": {
        "id": "Z-TC8-QXW9X2"
      },
      "source": [
        "import os\n",
        "os.chdir('ERNIE/')"
      ],
      "execution_count": 6,
      "outputs": []
    },
    {
      "cell_type": "code",
      "metadata": {
        "colab": {
          "base_uri": "https://localhost:8080/",
          "height": 1000
        },
        "id": "w0F0XsHUW9bI",
        "outputId": "2265a33f-120b-4474-f034-54957213c3db"
      },
      "source": [
        "!pip install -r requirements.txt\n",
        "!pip install -e ."
      ],
      "execution_count": 7,
      "outputs": [
        {
          "output_type": "stream",
          "text": [
            "Requirement already satisfied: numpy in /usr/local/lib/python3.7/dist-packages (from -r requirements.txt (line 1)) (1.19.5)\n",
            "Collecting pyzmq==18.0.2\n",
            "\u001b[?25l  Downloading https://files.pythonhosted.org/packages/f7/43/ac5473e08294fd1fc512e54c39b702de1c848391f9b2d073279f5dc7a986/pyzmq-18.0.2-cp37-cp37m-manylinux1_x86_64.whl (1.1MB)\n",
            "\u001b[K     |████████████████████████████████| 1.1MB 8.1MB/s \n",
            "\u001b[?25hCollecting six==1.11.0\n",
            "  Downloading https://files.pythonhosted.org/packages/67/4b/141a581104b1f6397bfa78ac9d43d8ad29a7ca43ea90a2d863fe3056e86a/six-1.11.0-py2.py3-none-any.whl\n",
            "Requirement already satisfied: sklearn==0.0 in /usr/local/lib/python3.7/dist-packages (from -r requirements.txt (line 4)) (0.0)\n",
            "Collecting sentencepiece==0.1.8\n",
            "\u001b[?25l  Downloading https://files.pythonhosted.org/packages/bf/7b/ccbfae16c95700646e9093fbed2f0a551e4fadc6355c3595c88b53644220/sentencepiece-0.1.8-cp37-cp37m-manylinux1_x86_64.whl (1.0MB)\n",
            "\u001b[K     |████████████████████████████████| 1.0MB 27.4MB/s \n",
            "\u001b[?25hCollecting jieba==0.39\n",
            "\u001b[?25l  Downloading https://files.pythonhosted.org/packages/71/46/c6f9179f73b818d5827202ad1c4a94e371a29473b7f043b736b4dab6b8cd/jieba-0.39.zip (7.3MB)\n",
            "\u001b[K     |████████████████████████████████| 7.3MB 22.2MB/s \n",
            "\u001b[?25hCollecting visualdl>=2.0.0b7\n",
            "\u001b[?25l  Downloading https://files.pythonhosted.org/packages/41/fa/0e10eb638117be8a6b738022171bf82706609ae4a73f167380fd430541d3/visualdl-2.1.1-py3-none-any.whl (2.6MB)\n",
            "\u001b[K     |████████████████████████████████| 2.6MB 52.2MB/s \n",
            "\u001b[?25hCollecting pathlib2>=2.3.2\n",
            "  Downloading https://files.pythonhosted.org/packages/e9/45/9c82d3666af4ef9f221cbb954e1d77ddbb513faf552aea6df5f37f1a4859/pathlib2-2.3.5-py2.py3-none-any.whl\n",
            "Requirement already satisfied: tqdm>=4.32.2 in /usr/local/lib/python3.7/dist-packages (from -r requirements.txt (line 9)) (4.41.1)\n",
            "Requirement already satisfied: scikit-learn in /usr/local/lib/python3.7/dist-packages (from sklearn==0.0->-r requirements.txt (line 4)) (0.22.2.post1)\n",
            "Collecting bce-python-sdk\n",
            "\u001b[?25l  Downloading https://files.pythonhosted.org/packages/9e/0e/c6cbdddcefecf9af3b4fcb1873ff4273c315b280d08215252d3ff8a1616b/bce_python_sdk-0.8.59-py3-none-any.whl (192kB)\n",
            "\u001b[K     |████████████████████████████████| 194kB 57.9MB/s \n",
            "\u001b[?25hCollecting shellcheck-py\n",
            "\u001b[?25l  Downloading https://files.pythonhosted.org/packages/6a/bd/4b2b60f5f84cc225a68b4b7bc8ea0399ffa2ddb6dac8c887e7222015746f/shellcheck_py-0.7.1.1-py2.py3-none-manylinux1_x86_64.whl (2.1MB)\n",
            "\u001b[K     |████████████████████████████████| 2.1MB 47.5MB/s \n",
            "\u001b[?25hCollecting flake8>=3.7.9\n",
            "\u001b[?25l  Downloading https://files.pythonhosted.org/packages/2a/cb/cd92e789442e234b8701bf6e886a55fbc83b7fd6e529b047e20b9cf196e8/flake8-3.9.0-py2.py3-none-any.whl (73kB)\n",
            "\u001b[K     |████████████████████████████████| 81kB 11.8MB/s \n",
            "\u001b[?25hCollecting pre-commit\n",
            "\u001b[?25l  Downloading https://files.pythonhosted.org/packages/e7/65/1176c4708470d1962f9f133f252f6bf21ce12d5f7de0df6369c0817039f3/pre_commit-2.12.0-py2.py3-none-any.whl (189kB)\n",
            "\u001b[K     |████████████████████████████████| 194kB 58.7MB/s \n",
            "\u001b[?25hRequirement already satisfied: flask>=1.1.1 in /usr/local/lib/python3.7/dist-packages (from visualdl>=2.0.0b7->-r requirements.txt (line 7)) (1.1.2)\n",
            "Collecting Flask-Babel>=1.0.0\n",
            "  Downloading https://files.pythonhosted.org/packages/ab/3e/02331179ffab8b79e0383606a028b6a60fb1b4419b84935edd43223406a0/Flask_Babel-2.0.0-py3-none-any.whl\n",
            "Requirement already satisfied: protobuf>=3.11.0 in /usr/local/lib/python3.7/dist-packages (from visualdl>=2.0.0b7->-r requirements.txt (line 7)) (3.12.4)\n",
            "Requirement already satisfied: Pillow>=7.0.0 in /usr/local/lib/python3.7/dist-packages (from visualdl>=2.0.0b7->-r requirements.txt (line 7)) (7.1.2)\n",
            "Requirement already satisfied: requests in /usr/local/lib/python3.7/dist-packages (from visualdl>=2.0.0b7->-r requirements.txt (line 7)) (2.23.0)\n",
            "Requirement already satisfied: joblib>=0.11 in /usr/local/lib/python3.7/dist-packages (from scikit-learn->sklearn==0.0->-r requirements.txt (line 4)) (1.0.1)\n",
            "Requirement already satisfied: scipy>=0.17.0 in /usr/local/lib/python3.7/dist-packages (from scikit-learn->sklearn==0.0->-r requirements.txt (line 4)) (1.4.1)\n",
            "Requirement already satisfied: future>=0.6.0 in /usr/local/lib/python3.7/dist-packages (from bce-python-sdk->visualdl>=2.0.0b7->-r requirements.txt (line 7)) (0.16.0)\n",
            "Collecting pycryptodome>=3.8.0\n",
            "\u001b[?25l  Downloading https://files.pythonhosted.org/packages/ad/16/9627ab0493894a11c68e46000dbcc82f578c8ff06bc2980dcd016aea9bd3/pycryptodome-3.10.1-cp35-abi3-manylinux2010_x86_64.whl (1.9MB)\n",
            "\u001b[K     |████████████████████████████████| 1.9MB 55.1MB/s \n",
            "\u001b[?25hCollecting mccabe<0.7.0,>=0.6.0\n",
            "  Downloading https://files.pythonhosted.org/packages/87/89/479dc97e18549e21354893e4ee4ef36db1d237534982482c3681ee6e7b57/mccabe-0.6.1-py2.py3-none-any.whl\n",
            "Requirement already satisfied: importlib-metadata; python_version < \"3.8\" in /usr/local/lib/python3.7/dist-packages (from flake8>=3.7.9->visualdl>=2.0.0b7->-r requirements.txt (line 7)) (3.8.1)\n",
            "Collecting pycodestyle<2.8.0,>=2.7.0\n",
            "\u001b[?25l  Downloading https://files.pythonhosted.org/packages/de/cc/227251b1471f129bc35e966bb0fceb005969023926d744139642d847b7ae/pycodestyle-2.7.0-py2.py3-none-any.whl (41kB)\n",
            "\u001b[K     |████████████████████████████████| 51kB 8.6MB/s \n",
            "\u001b[?25hCollecting pyflakes<2.4.0,>=2.3.0\n",
            "\u001b[?25l  Downloading https://files.pythonhosted.org/packages/6c/11/2a745612f1d3cbbd9c69ba14b1b43a35a2f5c3c81cd0124508c52c64307f/pyflakes-2.3.1-py2.py3-none-any.whl (68kB)\n",
            "\u001b[K     |████████████████████████████████| 71kB 10.5MB/s \n",
            "\u001b[?25hRequirement already satisfied: toml in /usr/local/lib/python3.7/dist-packages (from pre-commit->visualdl>=2.0.0b7->-r requirements.txt (line 7)) (0.10.2)\n",
            "Collecting identify>=1.0.0\n",
            "\u001b[?25l  Downloading https://files.pythonhosted.org/packages/42/35/fac586ad912cb341d159b29ee8961dc6de54986e8e4d01eb728bdb2ce1d3/identify-2.2.2-py2.py3-none-any.whl (98kB)\n",
            "\u001b[K     |████████████████████████████████| 102kB 13.7MB/s \n",
            "\u001b[?25hCollecting pyyaml>=5.1\n",
            "\u001b[?25l  Downloading https://files.pythonhosted.org/packages/7a/a5/393c087efdc78091afa2af9f1378762f9821c9c1d7a22c5753fb5ac5f97a/PyYAML-5.4.1-cp37-cp37m-manylinux1_x86_64.whl (636kB)\n",
            "\u001b[K     |████████████████████████████████| 645kB 54.4MB/s \n",
            "\u001b[?25hCollecting virtualenv>=20.0.8\n",
            "\u001b[?25l  Downloading https://files.pythonhosted.org/packages/91/fb/ca6c071f4231e06a9f0c3bd81c15c233bbacd4a7d9dbb7438d95fece8a1e/virtualenv-20.4.3-py2.py3-none-any.whl (7.2MB)\n",
            "\u001b[K     |████████████████████████████████| 7.2MB 47.9MB/s \n",
            "\u001b[?25hCollecting cfgv>=2.0.0\n",
            "  Downloading https://files.pythonhosted.org/packages/45/cd/3878c9248e59e5e2ebd0dc741ab984b18d86e7283ae9b127b05fc287d239/cfgv-3.2.0-py2.py3-none-any.whl\n",
            "Collecting nodeenv>=0.11.1\n",
            "  Downloading https://files.pythonhosted.org/packages/ae/d0/efdf54539948315cc76e5a66b709212963101d002822c3b54369dbf9b5e0/nodeenv-1.5.0-py2.py3-none-any.whl\n",
            "Requirement already satisfied: Werkzeug>=0.15 in /usr/local/lib/python3.7/dist-packages (from flask>=1.1.1->visualdl>=2.0.0b7->-r requirements.txt (line 7)) (1.0.1)\n",
            "Requirement already satisfied: itsdangerous>=0.24 in /usr/local/lib/python3.7/dist-packages (from flask>=1.1.1->visualdl>=2.0.0b7->-r requirements.txt (line 7)) (1.1.0)\n",
            "Requirement already satisfied: Jinja2>=2.10.1 in /usr/local/lib/python3.7/dist-packages (from flask>=1.1.1->visualdl>=2.0.0b7->-r requirements.txt (line 7)) (2.11.3)\n",
            "Requirement already satisfied: click>=5.1 in /usr/local/lib/python3.7/dist-packages (from flask>=1.1.1->visualdl>=2.0.0b7->-r requirements.txt (line 7)) (7.1.2)\n",
            "Requirement already satisfied: pytz in /usr/local/lib/python3.7/dist-packages (from Flask-Babel>=1.0.0->visualdl>=2.0.0b7->-r requirements.txt (line 7)) (2018.9)\n",
            "Requirement already satisfied: Babel>=2.3 in /usr/local/lib/python3.7/dist-packages (from Flask-Babel>=1.0.0->visualdl>=2.0.0b7->-r requirements.txt (line 7)) (2.9.0)\n",
            "Requirement already satisfied: setuptools in /usr/local/lib/python3.7/dist-packages (from protobuf>=3.11.0->visualdl>=2.0.0b7->-r requirements.txt (line 7)) (54.2.0)\n",
            "Requirement already satisfied: idna<3,>=2.5 in /usr/local/lib/python3.7/dist-packages (from requests->visualdl>=2.0.0b7->-r requirements.txt (line 7)) (2.10)\n",
            "Requirement already satisfied: chardet<4,>=3.0.2 in /usr/local/lib/python3.7/dist-packages (from requests->visualdl>=2.0.0b7->-r requirements.txt (line 7)) (3.0.4)\n",
            "Requirement already satisfied: certifi>=2017.4.17 in /usr/local/lib/python3.7/dist-packages (from requests->visualdl>=2.0.0b7->-r requirements.txt (line 7)) (2020.12.5)\n",
            "Requirement already satisfied: urllib3!=1.25.0,!=1.25.1,<1.26,>=1.21.1 in /usr/local/lib/python3.7/dist-packages (from requests->visualdl>=2.0.0b7->-r requirements.txt (line 7)) (1.24.3)\n",
            "Requirement already satisfied: zipp>=0.5 in /usr/local/lib/python3.7/dist-packages (from importlib-metadata; python_version < \"3.8\"->flake8>=3.7.9->visualdl>=2.0.0b7->-r requirements.txt (line 7)) (3.4.1)\n",
            "Requirement already satisfied: typing-extensions>=3.6.4; python_version < \"3.8\" in /usr/local/lib/python3.7/dist-packages (from importlib-metadata; python_version < \"3.8\"->flake8>=3.7.9->visualdl>=2.0.0b7->-r requirements.txt (line 7)) (3.7.4.3)\n",
            "Requirement already satisfied: appdirs<2,>=1.4.3 in /usr/local/lib/python3.7/dist-packages (from virtualenv>=20.0.8->pre-commit->visualdl>=2.0.0b7->-r requirements.txt (line 7)) (1.4.4)\n",
            "Collecting distlib<1,>=0.3.1\n",
            "\u001b[?25l  Downloading https://files.pythonhosted.org/packages/f5/0a/490fa011d699bb5a5f3a0cf57de82237f52a6db9d40f33c53b2736c9a1f9/distlib-0.3.1-py2.py3-none-any.whl (335kB)\n",
            "\u001b[K     |████████████████████████████████| 337kB 55.6MB/s \n",
            "\u001b[?25hRequirement already satisfied: filelock<4,>=3.0.0 in /usr/local/lib/python3.7/dist-packages (from virtualenv>=20.0.8->pre-commit->visualdl>=2.0.0b7->-r requirements.txt (line 7)) (3.0.12)\n",
            "Requirement already satisfied: MarkupSafe>=0.23 in /usr/local/lib/python3.7/dist-packages (from Jinja2>=2.10.1->flask>=1.1.1->visualdl>=2.0.0b7->-r requirements.txt (line 7)) (1.1.1)\n",
            "Building wheels for collected packages: jieba\n",
            "  Building wheel for jieba (setup.py) ... \u001b[?25l\u001b[?25hdone\n",
            "  Created wheel for jieba: filename=jieba-0.39-cp37-none-any.whl size=7282594 sha256=42cab607efc5f804bc47ec4974fab7d491c3df0c236c44a53a611f073706ae12\n",
            "  Stored in directory: /root/.cache/pip/wheels/c9/c7/63/a9ec0322ccc7c365fd51e475942a82395807186e94f0522243\n",
            "Successfully built jieba\n",
            "\u001b[31mERROR: tensorflow 2.4.1 has requirement six~=1.15.0, but you'll have six 1.11.0 which is incompatible.\u001b[0m\n",
            "\u001b[31mERROR: google-colab 1.0.0 has requirement six~=1.15.0, but you'll have six 1.11.0 which is incompatible.\u001b[0m\n",
            "\u001b[31mERROR: google-api-python-client 1.12.8 has requirement six<2dev,>=1.13.0, but you'll have six 1.11.0 which is incompatible.\u001b[0m\n",
            "\u001b[31mERROR: google-api-core 1.26.2 has requirement six>=1.13.0, but you'll have six 1.11.0 which is incompatible.\u001b[0m\n",
            "\u001b[31mERROR: dm-tree 0.1.5 has requirement six>=1.12.0, but you'll have six 1.11.0 which is incompatible.\u001b[0m\n",
            "\u001b[31mERROR: datascience 0.10.6 has requirement folium==0.2.1, but you'll have folium 0.8.3 which is incompatible.\u001b[0m\n",
            "\u001b[31mERROR: albumentations 0.1.12 has requirement imgaug<0.2.7,>=0.2.5, but you'll have imgaug 0.2.9 which is incompatible.\u001b[0m\n",
            "\u001b[31mERROR: visualdl 2.1.1 has requirement six>=1.14.0, but you'll have six 1.11.0 which is incompatible.\u001b[0m\n",
            "Installing collected packages: pyzmq, six, sentencepiece, jieba, pycryptodome, bce-python-sdk, shellcheck-py, mccabe, pycodestyle, pyflakes, flake8, identify, pyyaml, distlib, virtualenv, cfgv, nodeenv, pre-commit, Flask-Babel, visualdl, pathlib2\n",
            "  Found existing installation: pyzmq 22.0.3\n",
            "    Uninstalling pyzmq-22.0.3:\n",
            "      Successfully uninstalled pyzmq-22.0.3\n",
            "  Found existing installation: six 1.15.0\n",
            "    Uninstalling six-1.15.0:\n",
            "      Successfully uninstalled six-1.15.0\n",
            "  Found existing installation: jieba 0.42.1\n",
            "    Uninstalling jieba-0.42.1:\n",
            "      Successfully uninstalled jieba-0.42.1\n",
            "  Found existing installation: PyYAML 3.13\n",
            "    Uninstalling PyYAML-3.13:\n",
            "      Successfully uninstalled PyYAML-3.13\n",
            "Successfully installed Flask-Babel-2.0.0 bce-python-sdk-0.8.59 cfgv-3.2.0 distlib-0.3.1 flake8-3.9.0 identify-2.2.2 jieba-0.39 mccabe-0.6.1 nodeenv-1.5.0 pathlib2-2.3.5 pre-commit-2.12.0 pycodestyle-2.7.0 pycryptodome-3.10.1 pyflakes-2.3.1 pyyaml-5.4.1 pyzmq-18.0.2 sentencepiece-0.1.8 shellcheck-py-0.7.1.1 six-1.11.0 virtualenv-20.4.3 visualdl-2.1.1\n"
          ],
          "name": "stdout"
        },
        {
          "output_type": "display_data",
          "data": {
            "application/vnd.colab-display-data+json": {
              "pip_warning": {
                "packages": [
                  "six",
                  "zmq"
                ]
              }
            }
          },
          "metadata": {
            "tags": []
          }
        },
        {
          "output_type": "stream",
          "text": [
            "Obtaining file:///content/ERNIE\n",
            "Requirement already satisfied: requests in /usr/local/lib/python3.7/dist-packages (from paddle-ernie==0.1.0.dev1) (2.23.0)\n",
            "Requirement already satisfied: tqdm in /usr/local/lib/python3.7/dist-packages (from paddle-ernie==0.1.0.dev1) (4.41.1)\n",
            "Requirement already satisfied: pathlib2 in /usr/local/lib/python3.7/dist-packages (from paddle-ernie==0.1.0.dev1) (2.3.5)\n",
            "Requirement already satisfied: chardet<4,>=3.0.2 in /usr/local/lib/python3.7/dist-packages (from requests->paddle-ernie==0.1.0.dev1) (3.0.4)\n",
            "Requirement already satisfied: urllib3!=1.25.0,!=1.25.1,<1.26,>=1.21.1 in /usr/local/lib/python3.7/dist-packages (from requests->paddle-ernie==0.1.0.dev1) (1.24.3)\n",
            "Requirement already satisfied: idna<3,>=2.5 in /usr/local/lib/python3.7/dist-packages (from requests->paddle-ernie==0.1.0.dev1) (2.10)\n",
            "Requirement already satisfied: certifi>=2017.4.17 in /usr/local/lib/python3.7/dist-packages (from requests->paddle-ernie==0.1.0.dev1) (2020.12.5)\n",
            "Requirement already satisfied: six in /usr/local/lib/python3.7/dist-packages (from pathlib2->paddle-ernie==0.1.0.dev1) (1.11.0)\n",
            "Installing collected packages: paddle-ernie\n",
            "  Running setup.py develop for paddle-ernie\n",
            "Successfully installed paddle-ernie\n"
          ],
          "name": "stdout"
        }
      ]
    },
    {
      "cell_type": "code",
      "metadata": {
        "colab": {
          "base_uri": "https://localhost:8080/"
        },
        "id": "sHcpuKE-ZQeV",
        "outputId": "6787b2fe-f331-473e-dc5d-95a82f967475"
      },
      "source": [
        "!python ./demo/finetune_classifier.py \\\n",
        "        --from_pretrained ernie-2.0-large-en \\\n",
        "        --data_dir ./data/WiC/ \\\n",
        "        --save_dir ./results"
      ],
      "execution_count": 12,
      "outputs": [
        {
          "output_type": "stream",
          "text": [
            "/content/ERNIE/propeller/paddle/__init__.py:41: DeprecationWarning: The 'warn' method is deprecated, use 'warning' instead\n",
            "  log.warn('enabling old_styled_ckpt')\n",
            "[WARNING] 2021-04-06 23:28:10,920 [ __init__.py:   41]:\tenabling old_styled_ckpt\n",
            "[INFO] 2021-04-06 23:28:11,177 [finetune_classifier.py:  115]:\tperforming gradient accumulate: global_bsz:128, micro_bsz:32, accumulate_steps:4\n",
            "[INFO 2021-04-06 23:28:11,177 tokenizing_ernie.py:100] get pretrain dir from https://ernie-github.cdn.bcebos.com/model-ernie2.0-large-en.1.tar.gz\n",
            "[DEBUG 2021-04-06 23:28:11,178 file_utils.py:62] https://ernie-github.cdn.bcebos.com/model-ernie2.0-large-en.1.tar.gz cached in /root/.paddle-ernie-cache\n",
            "[DEBUG 2021-04-06 23:28:11,194 tokenizing_ernie.py:155] regex: (\\[UNK\\])|(\\[MASK\\])|(\\[SEP\\])|(\\[CLS\\])|(\\[PAD\\])|([a-zA-Z0-9]+|\\S)\n",
            "[INFO] 2021-04-06 23:28:11,195 [feature_column.py:  350]:\treading raw files from ./data/WiC/train/train.tsv\n",
            "[INFO] 2021-04-06 23:28:11,195 [feature_column.py:  350]:\treading raw files from ./data/WiC/dev/dev.tsv\n",
            "[INFO 2021-04-06 23:28:11,195 modeling_ernie.py:236] get pretrain dir from https://ernie-github.cdn.bcebos.com/model-ernie2.0-large-en.1.tar.gz\n",
            "[DEBUG 2021-04-06 23:28:11,195 file_utils.py:62] https://ernie-github.cdn.bcebos.com/model-ernie2.0-large-en.1.tar.gz cached in /root/.paddle-ernie-cache\n",
            "[DEBUG 2021-04-06 23:28:11,196 modeling_ernie.py:279] init ErnieModel with config: {'attention_probs_dropout_prob': 0.1, 'hidden_act': 'gelu', 'hidden_dropout_prob': 0.1, 'hidden_size': 1024, 'initializer_range': 0.02, 'max_position_embeddings': 512, 'num_attention_heads': 16, 'num_hidden_layers': 24, 'sent_type_vocab_size': 4, 'task_type_vocab_size': 16, 'vocab_size': 30522, 'num_labels': 2}\n",
            "W0406 23:28:11.196789   879 device_context.cc:362] Please NOTE: device: 0, GPU Compute Capability: 7.5, Driver API Version: 11.2, Runtime API Version: 10.2\n",
            "W0406 23:28:11.199987   879 device_context.cc:372] device: 0, cuDNN Version: 7.6.\n",
            "[INFO 2021-04-06 23:28:13,829 modeling_ernie.py:254] loading pretrained model from /root/.paddle-ernie-cache/4e35457708f86b00606bed8318229f17\n",
            "/content/ERNIE/ernie/modeling_ernie.py:265: DeprecationWarning: The 'warn' method is deprecated, use 'warning' instead\n",
            "  log.warn('param:%s not set in pretrained model, skip' % k)\n",
            "[WARNING 2021-04-06 23:28:24,455 modeling_ernie.py:265] param:classifier.weight not set in pretrained model, skip\n",
            "[WARNING 2021-04-06 23:28:24,455 modeling_ernie.py:265] param:classifier.bias not set in pretrained model, skip\n",
            "[DEBUG] 2021-04-06 23:28:51,691 [finetune_classifier.py:  222]:\t[step-10] train loss 0.17444 lr 5.000e-05\n",
            "[DEBUG] 2021-04-06 23:29:17,357 [finetune_classifier.py:  222]:\t[step-20] train loss 0.11689 lr 5.000e-05\n",
            "[DEBUG] 2021-04-06 23:29:44,237 [finetune_classifier.py:  222]:\t[step-30] train loss 0.14555 lr 5.000e-05\n",
            "[DEBUG] 2021-04-06 23:30:11,345 [finetune_classifier.py:  222]:\t[step-40] train loss 0.11170 lr 5.000e-05\n",
            "[DEBUG] 2021-04-06 23:30:39,651 [finetune_classifier.py:  222]:\t[step-50] train loss 0.14039 lr 5.000e-05\n",
            "[DEBUG] 2021-04-06 23:31:05,976 [finetune_classifier.py:  222]:\t[step-60] train loss 0.03982 lr 5.000e-05\n",
            "[DEBUG] 2021-04-06 23:31:34,209 [finetune_classifier.py:  222]:\t[step-70] train loss 0.13935 lr 5.000e-05\n",
            "[DEBUG] 2021-04-06 23:32:00,560 [finetune_classifier.py:  222]:\t[step-80] train loss 0.09085 lr 5.000e-05\n",
            "[DEBUG] 2021-04-06 23:32:29,232 [finetune_classifier.py:  222]:\t[step-90] train loss 0.10575 lr 5.000e-05\n",
            "[DEBUG] 2021-04-06 23:32:55,310 [finetune_classifier.py:  222]:\t[step-100] train loss 0.03705 lr 5.000e-05\n",
            "[DEBUG] 2021-04-06 23:32:59,896 [finetune_classifier.py:  239]:\tacc 0.71787\n",
            "[DEBUG] 2021-04-06 23:33:49,389 [finetune_classifier.py:  222]:\t[step-110] train loss 0.06354 lr 5.000e-05\n",
            "[DEBUG] 2021-04-06 23:34:16,179 [finetune_classifier.py:  222]:\t[step-120] train loss 0.01406 lr 5.000e-05\n"
          ],
          "name": "stdout"
        }
      ]
    }
  ]
}